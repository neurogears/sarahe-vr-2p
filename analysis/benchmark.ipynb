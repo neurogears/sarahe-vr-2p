{
 "cells": [
  {
   "cell_type": "code",
   "execution_count": 39,
   "metadata": {},
   "outputs": [],
   "source": [
    "import numpy as np\n",
    "import pandas as pd\n",
    "import matplotlib.pyplot as plt"
   ]
  },
  {
   "cell_type": "code",
   "execution_count": 40,
   "metadata": {},
   "outputs": [],
   "source": [
    "# analog_file = r\"C:\\Users\\neurogears\\Documents\\git\\neurogears\\sarahe-vr-2p\\analysis\\data\\AnalogInput.bin\"\n",
    "analog_file = r\"C:\\\\Mouse2\\\\2023-07-20T16-00-43\\AnalogInput.bin\"\n",
    "fs_analog = 1000 #samples per second\n",
    "digital_file =r\"C:\\\\Mouse2\\\\2023-07-20T16-00-43\\DigitalInput.bin\"\n",
    "fs_digital = 3000 #samples per second"
   ]
  },
  {
   "cell_type": "code",
   "execution_count": 323,
   "metadata": {},
   "outputs": [
    {
     "ename": "IndexError",
     "evalue": "index 52100 is out of bounds for axis 0 with size 52100",
     "output_type": "error",
     "traceback": [
      "\u001b[1;31m---------------------------------------------------------------------------\u001b[0m",
      "\u001b[1;31mIndexError\u001b[0m                                Traceback (most recent call last)",
      "Cell \u001b[1;32mIn[323], line 11\u001b[0m\n\u001b[0;32m      8\u001b[0m analog_time \u001b[39m=\u001b[39m np\u001b[39m.\u001b[39marange(analog_piezo\u001b[39m.\u001b[39mshape[\u001b[39m0\u001b[39m])\u001b[39m/\u001b[39mfs_analog \u001b[39m#change time scale\u001b[39;00m\n\u001b[0;32m      9\u001b[0m digital_time \u001b[39m=\u001b[39m np\u001b[39m.\u001b[39marange(digital_data\u001b[39m.\u001b[39mshape[\u001b[39m0\u001b[39m])\u001b[39m/\u001b[39mfs_digital\n\u001b[1;32m---> 11\u001b[0m analog_piezo[np\u001b[39m.\u001b[39;49msearchsorted(analog_time,digital_time)]\n\u001b[0;32m     13\u001b[0m \u001b[39m# plot figure\u001b[39;00m\n\u001b[0;32m     14\u001b[0m \u001b[39m# plt.figure(figsize=(20,10))\u001b[39;00m\n\u001b[0;32m     15\u001b[0m \u001b[39m# plt.plot(analog_time, analog_photodiode)\u001b[39;00m\n\u001b[0;32m     16\u001b[0m \u001b[39m# plt.scatter(rising_edges / fs_analog, rising_edges*0 + 1, c='r', s=10)\u001b[39;00m\n\u001b[0;32m     17\u001b[0m \u001b[39m# plt.xlim((0, 5))\u001b[39;00m\n\u001b[0;32m     18\u001b[0m \u001b[39m# plt.show()\u001b[39;00m\n",
      "\u001b[1;31mIndexError\u001b[0m: index 52100 is out of bounds for axis 0 with size 52100"
     ]
    }
   ],
   "source": [
    "analog_data = np.fromfile(analog_file, dtype=np.float64).reshape(-1,3).transpose()\n",
    "for i in range(analog_data.shape[0]): \n",
    "    plt.figure()\n",
    "    plt.plot(analog_data[i,:])\n",
    "    plt.show()\n",
    "\n",
    "analog_piezo = analog_data[0,:] # specify input\n",
    "analog_time = np.arange(analog_piezo.shape[0])/fs_analog #change time scale\n",
    "digital_time = np.arange(digital_data.shape[0])/fs_digital\n",
    "\n",
    "# analog_piezo[np.searchsorted(analog_time,digital_time)]\n",
    "\n",
    "plot figure\n",
    "plt.figure(figsize=(20,10))\n",
    "plt.plot(analog_time, analog_photodiode)\n",
    "plt.scatter(rising_edges / fs_analog, rising_edges*0 + 1, c='r', s=10)\n",
    "plt.xlim((0, 5))\n",
    "plt.show()\n"
   ]
  },
  {
   "cell_type": "code",
   "execution_count": 42,
   "metadata": {},
   "outputs": [],
   "source": [
    "\n",
    "def extract_digital_channel(digital_data, channel_number):\n",
    "     #channel_number goes from 0 to 7\n",
    "     return digital_data & (1 << channel_number) > 0"
   ]
  },
  {
   "cell_type": "code",
   "execution_count": 321,
   "metadata": {},
   "outputs": [
    {
     "data": {
      "text/plain": [
       "<Figure size 640x480 with 0 Axes>"
      ]
     },
     "metadata": {},
     "output_type": "display_data"
    }
   ],
   "source": [
    "digital_data = np.fromfile(digital_file, dtype=np.byte)\n",
    "digital_time = np.arange(digital_data.shape[0])/fs_digital\n",
    "\n",
    "def detect_rising_edges(signal):\n",
    "    edges = np.where((np.diff(signal) > 0) & (signal[1:] == 1))[0] + 1\n",
    "    return edges\n",
    "\n",
    "photodiode_signal = extract_digital_channel(digital_data, 2)\n",
    "diode_rising_edges = detect_rising_edges(photodiode_signal)\n",
    "# rising_edges = np.where(np.diff(extract_digital_channel(digital_data, 2)) == 1)[0] +1# identify where in time frame signal\n",
    "scanner_signal= np.logical_not(extract_digital_channel(digital_data,0))\n",
    "scanner_edges = detect_rising_edges(scanner_signal)\n",
    "frame_indices = np.arange(1, len(diode_rising_edges) + 1)\n",
    "scanner_frame_indices=np.arange(1, len(scanner_edges) + 1)\n",
    "aligned_scanner=np.searchsorted(scanner_frame_indices,frame_indices)\n",
    "\n",
    "plt.figure()\n",
    "# plt.plot(digital_time, photodiode_signal)\n",
    "# plt.plot(digital_time,scanner_signal)\n",
    "# plt.scatter(rising_edges / fs_digital, photodiode_signal[rising_edges], c='r', s=10)\n",
    "# plt.scatter(scanner_edges / fs_digital, scanner_signal[scanner_edges], c='r', s=10)\n",
    "# plt.xlim(10, 10.1)\n",
    "plt.show()\n",
    "\n"
   ]
  },
  {
   "cell_type": "code",
   "execution_count": 310,
   "metadata": {},
   "outputs": [],
   "source": [
    "# read and align rotary encoder values\n",
    "csv_file = r\"C:\\\\Mouse2\\\\2023-07-20T16-00-43\\RotaryEncoder.csv\"  # add position of encoder to aligned data array\n",
    "csv_data = pd.read_csv(csv_file)\n",
    "csv_frame_indices=csv_data['FrameIndex'].values + 1\n",
    "csv_values=csv_data['RotaryEncoder'].values\n",
    "aligned_encoder_values = np.full(len(frame_indices), np.nan)\n",
    "aligned_encoder_values[csv_frame_indices - 1] = csv_values\n",
    "\n",
    "\n",
    "csv_file = r\"C:\\\\Mouse2\\\\2023-07-20T16-00-43\\VrPosition.csv\"  # add position of encoder to aligned data array\n",
    "csv_data = pd.read_csv(csv_file)\n",
    "csv_values=csv_data['Position'].values\n",
    "# aligned_position_values = np.full(len(frame_indices), np.nan)\n",
    "# aligned_position_values[csv_frame_indices - 1] = csv_values# what frames are these corresponding to?\n",
    "\n",
    "csv_file = r\"C:\\\\Mouse2\\\\2023-07-20T16-00-43\\FrameEvents.csv\"  # add position of encoder to aligned data array\n",
    "csv_data = pd.read_csv(csv_file)\n",
    "lick_index=np.where(csv_data['EventName'] == 'Lick')[0]\n",
    "lick_frame_indices = csv_data['Frame.Index'].values[lick_index]\n",
    "aligned_licks = np.zeros(len(frame_indices), dtype=int)\n",
    "aligned_licks[np.searchsorted(frame_indices, lick_frame_indices)] = 1\n",
    "\n",
    "teleport_index=np.where(csv_data['EventName'] == 'Teleport')[0]\n",
    "teleport_frame_indices = csv_data['Frame.Index'].values[teleport_index]\n",
    "aligned_teleport = np.zeros(len(frame_indices), dtype=int)\n",
    "aligned_teleport[np.searchsorted(frame_indices, teleport_frame_indices)] = 1\n",
    "\n",
    "reward_index=np.where(csv_data['EventName'] == 'Reward')[0]\n",
    "\n",
    "reward_frame_indices = csv_data['Frame.Index'].values[reward_index]\n",
    "aligned_reward = np.zeros(len(frame_indices), dtype=int)\n",
    "aligned_reward[np.searchsorted(frame_indices, reward_frame_indices)] = 1"
   ]
  },
  {
   "cell_type": "code",
   "execution_count": 311,
   "metadata": {},
   "outputs": [
    {
     "name": "stdout",
     "output_type": "stream",
     "text": [
      "       FrameIndex  Scanner  Encoder  Lick  Reward  Teleport\n",
      "0               1        0      0.0     0       0         0\n",
      "1               2        1      0.0     0       0         0\n",
      "2               3        2      0.0     0       0         0\n",
      "3               4        3      0.0     0       0         0\n",
      "4               5        4      0.0     0       0         0\n",
      "...           ...      ...      ...   ...     ...       ...\n",
      "20318       20319     1582      NaN     0       0         0\n",
      "20319       20320     1582      NaN     0       0         0\n",
      "20320       20321     1582      NaN     0       0         0\n",
      "20321       20322     1582      NaN     0       0         0\n",
      "20322       20323     1582      NaN     0       0         0\n",
      "\n",
      "[20323 rows x 6 columns]\n"
     ]
    }
   ],
   "source": [
    "data = {\n",
    "    'FrameIndex': frame_indices,\n",
    "    'Scanner': aligned_scanner,\n",
    "    'Encoder': aligned_encoder_values,\n",
    "    'Lick': aligned_licks,\n",
    "    'Reward': aligned_reward,\n",
    "    'Teleport': aligned_teleport\n",
    "}\n",
    "\n",
    "behavior_data = pd.DataFrame(data)\n",
    "\n",
    "print(behavior_data)"
   ]
  },
  {
   "cell_type": "code",
   "execution_count": 80,
   "metadata": {},
   "outputs": [
    {
     "name": "stdout",
     "output_type": "stream",
     "text": [
      "156300\n",
      "20323\n",
      "156300\n"
     ]
    },
    {
     "ename": "IndexError",
     "evalue": "index 52100 is out of bounds for axis 0 with size 52100",
     "output_type": "error",
     "traceback": [
      "\u001b[1;31m---------------------------------------------------------------------------\u001b[0m",
      "\u001b[1;31mIndexError\u001b[0m                                Traceback (most recent call last)",
      "Cell \u001b[1;32mIn[80], line 9\u001b[0m\n\u001b[0;32m      7\u001b[0m aligned_data[\u001b[39m'\u001b[39m\u001b[39mTimestamp\u001b[39m\u001b[39m'\u001b[39m] \u001b[39m=\u001b[39m digital_time\n\u001b[0;32m      8\u001b[0m \u001b[39mfor\u001b[39;00m i \u001b[39min\u001b[39;00m \u001b[39mrange\u001b[39m(\u001b[39mlen\u001b[39m(analog_data)):\n\u001b[1;32m----> 9\u001b[0m     aligned_data[\u001b[39m'\u001b[39m\u001b[39mAnalog_Data\u001b[39m\u001b[39m'\u001b[39m\u001b[39m+\u001b[39m \u001b[39mstr\u001b[39m(i)] \u001b[39m=\u001b[39m analog_data[i,:][np\u001b[39m.\u001b[39;49msearchsorted(analog_time,digital_time)]\n\u001b[0;32m     10\u001b[0m     aligned_data[\u001b[39m'\u001b[39m\u001b[39mDigital_Data\u001b[39m\u001b[39m'\u001b[39m\u001b[39m+\u001b[39m\u001b[39mstr\u001b[39m(i)]\u001b[39m=\u001b[39m extract_digital_channel(digital_data, \u001b[39m2\u001b[39m\u001b[39m*\u001b[39mi)  \n\u001b[0;32m     11\u001b[0m \u001b[39m# plt.figure()\u001b[39;00m\n\u001b[0;32m     12\u001b[0m \u001b[39m# plt.plot(aligned_data['Timestamp'],aligned_data['Digital_Data0'], c = \"b\")\u001b[39;00m\n\u001b[0;32m     13\u001b[0m \u001b[39m# plt.plot(aligned_data['Timestamp'],aligned_data['Analog_Data2'], c = \"r\")\u001b[39;00m\n\u001b[0;32m     14\u001b[0m \u001b[39m# plt.show()\u001b[39;00m\n",
      "\u001b[1;31mIndexError\u001b[0m: index 52100 is out of bounds for axis 0 with size 52100"
     ]
    }
   ],
   "source": [
    "## align and concatenate all digital and analog data\n",
    "\n",
    "aligned_data = np.zeros(len(digital_time), dtype=[('Timestamp', float), ('Analog_Data0', float), ('Analog_Data1', float), ('Analog_Data2', float),\n",
    "                                                  ('Digital_Data0', int), ('Digital_Data1', int), ('Digital_Data2', int),('RotaryEncoder',float),('EventNames',str)])\n",
    "aligned_data['Timestamp'] = digital_time\n",
    "for i in range(len(analog_data)):\n",
    "    aligned_data['Analog_Data'+ str(i)] = analog_data[i,:][np.searchsorted(analog_time,digital_time)]\n",
    "    aligned_data['Digital_Data'+str(i)]= extract_digital_channel(digital_data, 2*i)  \n",
    "# plt.figure()\n",
    "# plt.plot(aligned_data['Timestamp'],aligned_data['Digital_Data0'], c = \"b\")\n",
    "# plt.plot(aligned_data['Timestamp'],aligned_data['Analog_Data2'], c = \"r\")\n",
    "# plt.show()\n"
   ]
  }
 ],
 "metadata": {
  "kernelspec": {
   "display_name": "Python 3",
   "language": "python",
   "name": "python3"
  },
  "language_info": {
   "codemirror_mode": {
    "name": "ipython",
    "version": 3
   },
   "file_extension": ".py",
   "mimetype": "text/x-python",
   "name": "python",
   "nbconvert_exporter": "python",
   "pygments_lexer": "ipython3",
   "version": "3.11.4"
  },
  "orig_nbformat": 4
 },
 "nbformat": 4,
 "nbformat_minor": 2
}
